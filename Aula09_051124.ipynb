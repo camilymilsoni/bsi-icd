{
  "nbformat": 4,
  "nbformat_minor": 0,
  "metadata": {
    "colab": {
      "provenance": []
    },
    "kernelspec": {
      "name": "python3",
      "display_name": "Python 3"
    },
    "language_info": {
      "name": "python"
    }
  },
  "cells": [
    {
      "cell_type": "code",
      "source": [
        "!pip install mistralai"
      ],
      "metadata": {
        "colab": {
          "base_uri": "https://localhost:8080/"
        },
        "id": "03NphyF1fyvz",
        "outputId": "70e8fd38-30d7-4b35-e64b-11485ab68617"
      },
      "execution_count": null,
      "outputs": [
        {
          "output_type": "stream",
          "name": "stdout",
          "text": [
            "Requirement already satisfied: mistralai in /usr/local/lib/python3.10/dist-packages (1.1.0)\n",
            "Requirement already satisfied: eval-type-backport<0.3.0,>=0.2.0 in /usr/local/lib/python3.10/dist-packages (from mistralai) (0.2.0)\n",
            "Requirement already satisfied: httpx<0.28.0,>=0.27.0 in /usr/local/lib/python3.10/dist-packages (from mistralai) (0.27.2)\n",
            "Requirement already satisfied: jsonpath-python<2.0.0,>=1.0.6 in /usr/local/lib/python3.10/dist-packages (from mistralai) (1.0.6)\n",
            "Requirement already satisfied: pydantic<3.0.0,>=2.9.0 in /usr/local/lib/python3.10/dist-packages (from mistralai) (2.9.2)\n",
            "Requirement already satisfied: python-dateutil==2.8.2 in /usr/local/lib/python3.10/dist-packages (from mistralai) (2.8.2)\n",
            "Requirement already satisfied: typing-inspect<0.10.0,>=0.9.0 in /usr/local/lib/python3.10/dist-packages (from mistralai) (0.9.0)\n",
            "Requirement already satisfied: six>=1.5 in /usr/local/lib/python3.10/dist-packages (from python-dateutil==2.8.2->mistralai) (1.16.0)\n",
            "Requirement already satisfied: anyio in /usr/local/lib/python3.10/dist-packages (from httpx<0.28.0,>=0.27.0->mistralai) (3.7.1)\n",
            "Requirement already satisfied: certifi in /usr/local/lib/python3.10/dist-packages (from httpx<0.28.0,>=0.27.0->mistralai) (2024.8.30)\n",
            "Requirement already satisfied: httpcore==1.* in /usr/local/lib/python3.10/dist-packages (from httpx<0.28.0,>=0.27.0->mistralai) (1.0.6)\n",
            "Requirement already satisfied: idna in /usr/local/lib/python3.10/dist-packages (from httpx<0.28.0,>=0.27.0->mistralai) (3.10)\n",
            "Requirement already satisfied: sniffio in /usr/local/lib/python3.10/dist-packages (from httpx<0.28.0,>=0.27.0->mistralai) (1.3.1)\n",
            "Requirement already satisfied: h11<0.15,>=0.13 in /usr/local/lib/python3.10/dist-packages (from httpcore==1.*->httpx<0.28.0,>=0.27.0->mistralai) (0.14.0)\n",
            "Requirement already satisfied: annotated-types>=0.6.0 in /usr/local/lib/python3.10/dist-packages (from pydantic<3.0.0,>=2.9.0->mistralai) (0.7.0)\n",
            "Requirement already satisfied: pydantic-core==2.23.4 in /usr/local/lib/python3.10/dist-packages (from pydantic<3.0.0,>=2.9.0->mistralai) (2.23.4)\n",
            "Requirement already satisfied: typing-extensions>=4.6.1 in /usr/local/lib/python3.10/dist-packages (from pydantic<3.0.0,>=2.9.0->mistralai) (4.12.2)\n",
            "Requirement already satisfied: mypy-extensions>=0.3.0 in /usr/local/lib/python3.10/dist-packages (from typing-inspect<0.10.0,>=0.9.0->mistralai) (1.0.0)\n",
            "Requirement already satisfied: exceptiongroup in /usr/local/lib/python3.10/dist-packages (from anyio->httpx<0.28.0,>=0.27.0->mistralai) (1.2.2)\n"
          ]
        }
      ]
    },
    {
      "cell_type": "code",
      "execution_count": null,
      "metadata": {
        "id": "TGySNZAqA3mZ",
        "colab": {
          "base_uri": "https://localhost:8080/"
        },
        "outputId": "f555fdbc-4ec3-48ee-d41a-6e320c19abb4"
      },
      "outputs": [
        {
          "output_type": "stream",
          "name": "stdout",
          "text": [
            "Sure, here's a simple recursive function in Python for generating Fibonacci numbers:\n",
            "\n",
            "```python\n",
            "def fibonacci(n):\n",
            "    if n <= 0:\n",
            "        return \"Input should be a positive integer\"\n",
            "    elif n == 1:\n",
            "        return 0\n",
            "    elif n == 2:\n",
            "        return 1\n",
            "    else:\n",
            "        return fibonacci(n-1) + fibonacci(n-2)\n",
            "```\n",
            "\n",
            "This function works by recursively calling itself with smaller and smaller values of `n`, until it reaches one of the base cases (`n == 1` or `n == 2`). The function then returns the appropriate Fibonacci number based on the value of `n`.\n"
          ]
        }
      ],
      "source": [
        "import os\n",
        "from mistralai import Mistral\n",
        "\n",
        "api_key = \"P9e90tq7gzOyHX8ieeRV2MFfpOxM6DxL\"\n",
        "\n",
        "client = Mistral(api_key=api_key)\n",
        "\n",
        "model = \"codestral-mamba-latest\"\n",
        "\n",
        "message = [\n",
        "    {\n",
        "        \"role\": \"user\",\n",
        "        \"content\": \"Write a function for fibonacci\"\n",
        "    }\n",
        "]\n",
        "\n",
        "chat_response = client.chat.complete(\n",
        "    model=model,\n",
        "    messages=message\n",
        ")\n",
        "print(chat_response.choices[0].message.content)"
      ]
    },
    {
      "cell_type": "code",
      "source": [
        "message = [\n",
        "    {\n",
        "        \"role\": \"user\",\n",
        "        \"content\": \"Write a code to calculate the average of two students in HTML\"\n",
        "    }\n",
        "]\n",
        "\n",
        "chat_response = client.chat.complete(\n",
        "    model=model,\n",
        "    messages=message\n",
        ")\n",
        "print(chat_response.choices[0].message.content)"
      ],
      "metadata": {
        "colab": {
          "base_uri": "https://localhost:8080/"
        },
        "id": "4ZFTHNb8jA5s",
        "outputId": "475ae954-111e-4bd5-edc5-f51e8f196ea2"
      },
      "execution_count": null,
      "outputs": [
        {
          "output_type": "stream",
          "name": "stdout",
          "text": [
            "To calculate the average of two students in HTML, you can use JavaScript to perform the calculation and display the result in a web page. Here's some sample code to get you started:\n",
            "\n",
            "```html\n",
            "<!DOCTYPE html>\n",
            "<html>\n",
            "<head>\n",
            "  <title>Average Calculator</title>\n",
            "  <script>\n",
            "    function calculateAverage() {\n",
            "      var student1 = parseFloat(document.getElementById(\"student1\").value);\n",
            "      var student2 = parseFloat(document.getElementById(\"student2\").value);\n",
            "      var average = (student1 + student2) / 2;\n",
            "      document.getElementById(\"result\").innerHTML = \"Average: \" + average.toFixed(2);\n",
            "    }\n",
            "  </script>\n",
            "</head>\n",
            "<body>\n",
            "  <h1>Average Calculator</h1>\n",
            "  <label for=\"student1\">Student 1:</label>\n",
            "  <input type=\"number\" id=\"student1\" name=\"student1\">\n",
            "  <br>\n",
            "  <label for=\"student2\">Student 2:</label>\n",
            "  <input type=\"number\" id=\"student2\" name=\"student2\">\n",
            "  <br>\n",
            "  <button onclick=\"calculateAverage()\">Calculate</button>\n",
            "  <p id=\"result\"></p>\n",
            "</body>\n",
            "</html>\n",
            "```\n",
            "\n",
            "This code creates a web page with two input fields for student scores, a button to calculate the average, and a paragraph to display the result. When the \"Calculate\" button is clicked, the `calculateAverage()` function is called, which retrieves the values from the input fields, calculates the average, and displays the result in the paragraph.\n"
          ]
        }
      ]
    },
    {
      "cell_type": "code",
      "source": [
        "message = [\n",
        "    {\n",
        "        \"role\": \"user\",\n",
        "        \"content\": \"Write a code to calculate the average of two students in C++\"\n",
        "    }\n",
        "]\n",
        "\n",
        "chat_response = client.chat.complete(\n",
        "    model=model,\n",
        "    messages=message\n",
        ")\n",
        "print(chat_response.choices[0].message.content)"
      ],
      "metadata": {
        "colab": {
          "base_uri": "https://localhost:8080/"
        },
        "id": "17IsN0_-jJOz",
        "outputId": "a96137a2-1eb1-4b56-ca9e-274d608cd7d5"
      },
      "execution_count": null,
      "outputs": [
        {
          "output_type": "stream",
          "name": "stdout",
          "text": [
            "Sure, here is a simple C++ program that calculates the average of two students:\n",
            "\n",
            "```cpp\n",
            "#include<iostream>\n",
            "using namespace std;\n",
            "\n",
            "int main() {\n",
            "    // Declare the variables for the marks of two students\n",
            "    int student1, student2;\n",
            "\n",
            "    // Prompt the user to enter the marks of the first student\n",
            "    cout << \"Enter the marks of the first student: \";\n",
            "    cin >> student1;\n",
            "\n",
            "    // Prompt the user to enter the marks of the second student\n",
            "    cout << \"Enter the marks of the second student: \";\n",
            "    cin >> student2;\n",
            "\n",
            "    // Calculate the average of the two students\n",
            "    float average = (student1 + student2) / 2.0;\n",
            "\n",
            "    // Output the average\n",
            "    cout << \"The average of the two students is: \" << average << endl;\n",
            "\n",
            "    return 0;\n",
            "}\n",
            "```\n",
            "\n",
            "This program will prompt the user to enter the marks of two students, calculate the average, and then output the result.\n"
          ]
        }
      ]
    },
    {
      "cell_type": "code",
      "source": [
        "message = [\n",
        "    {\n",
        "        \"role\": \"user\",\n",
        "        \"content\": \"Write a code to generate the input of ten students' grades in html\"\n",
        "    }\n",
        "]\n",
        "\n",
        "chat_response = client.chat.complete(\n",
        "    model=model,\n",
        "    messages=message\n",
        ")\n",
        "print(chat_response.choices[0].message.content)"
      ],
      "metadata": {
        "colab": {
          "base_uri": "https://localhost:8080/"
        },
        "id": "ZHa4eomVjSSb",
        "outputId": "9586735c-1e32-4dba-974d-fd6de684af95"
      },
      "execution_count": null,
      "outputs": [
        {
          "output_type": "stream",
          "name": "stdout",
          "text": [
            "Sure, here is a simple example of how you can generate the input fields for ten students' grades in HTML:\n",
            "\n",
            "```html\n",
            "<!DOCTYPE html>\n",
            "<html>\n",
            "<head>\n",
            "    <title>Students' Grades</title>\n",
            "</head>\n",
            "<body>\n",
            "    <form>\n",
            "        <label for=\"student1\">Student 1:</label><br>\n",
            "        <input type=\"number\" id=\"student1\" name=\"student1\"><br>\n",
            "        <label for=\"student2\">Student 2:</label><br>\n",
            "        <input type=\"number\" id=\"student2\" name=\"student2\"><br>\n",
            "        <!-- Repeat the pattern for the rest of the students -->\n",
            "        <!-- ... -->\n",
            "        <label for=\"student10\">Student 10:</label><br>\n",
            "        <input type=\"number\" id=\"student10\" name=\"student10\"><br>\n",
            "        <input type=\"submit\" value=\"Submit\">\n",
            "    </form>\n",
            "</body>\n",
            "</html>\n",
            "```\n",
            "\n",
            "This code will create a form with ten input fields, each for a student's grade. The `id` attribute is used to uniquely identify each input field, and the `name` attribute is used to reference the input field when the form is submitted.\n"
          ]
        }
      ]
    }
  ]
}