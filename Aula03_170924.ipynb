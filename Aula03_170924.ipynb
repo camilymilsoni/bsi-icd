{
  "nbformat": 4,
  "nbformat_minor": 0,
  "metadata": {
    "colab": {
      "provenance": []
    },
    "kernelspec": {
      "name": "python3",
      "display_name": "Python 3"
    },
    "language_info": {
      "name": "python"
    }
  },
  "cells": [
    {
      "cell_type": "code",
      "source": [
        "#features (1 sim, 0 não)\n",
        "#pelo longo?\n",
        "#perna curta?\n",
        "#faz latido?\n",
        "porco1 = [0, 1, 0]\n",
        "porco2 = [0, 1, 1]\n",
        "porco3 = [1, 1, 0]\n",
        "cachorro1 = [0, 1, 1]\n",
        "cachorro2 = [1, 0, 1]\n",
        "cachorro3 = [1, 1, 1]\n",
        "\n",
        "# porco->1, cachorro->0\n",
        "dados = [porco1, porco2, porco3, cachorro1, cachorro2, cachorro3]\n",
        "classes = [1, 1, 1, 0, 0, 0]\n",
        "\n",
        "from sklearn.svm import LinearSVC\n",
        "modelo = LinearSVC()\n",
        "#treinar o modelo\n",
        "modelo.fit(dados, classes)\n",
        "\n",
        "animal_misterioso = [1, 1, 1]\n",
        "#classificar o animal misterioso\n",
        "modelo.predict([animal_misterioso])\n",
        "\n",
        "misterio1 = [1, 1, 1]\n",
        "misterio2 = [1, 1, 0]\n",
        "misterio3 = [0, 1, 1]\n",
        "\n",
        "testes = [misterio1, misterio2, misterio3]\n",
        "previsoes = modelo.predict(testes)\n",
        "print(previsoes) #[0, 1, 0]\n",
        "\n",
        "testes_classes = [0, 1, 1] #resultado esperado na previsão (previsão errou a última)\n",
        "\n",
        "from sklearn.metrics import accuracy_score\n",
        "taxa_de_acerto = accuracy_score(testes_classes, previsoes)\n",
        "print(taxa_de_acerto)"
      ],
      "metadata": {
        "colab": {
          "base_uri": "https://localhost:8080/"
        },
        "id": "3eYCwXuMwvOT",
        "outputId": "d103b395-eaae-4e5a-d1d1-2aacff1c9771"
      },
      "execution_count": null,
      "outputs": [
        {
          "output_type": "stream",
          "name": "stdout",
          "text": [
            "[0 1 0]\n",
            "0.6666666666666666\n"
          ]
        }
      ]
    }
  ]
}